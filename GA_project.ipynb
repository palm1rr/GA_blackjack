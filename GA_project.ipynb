{
 "cells": [
  {
   "cell_type": "markdown",
   "id": "c51ec985-ca3c-49c9-9564-a1e8d031ee62",
   "metadata": {},
   "source": [
    "# **Реализация игры**\n"
   ]
  },
  {
   "cell_type": "code",
   "execution_count": 19,
   "id": "c60a02ab-21f1-453a-969f-9a925bf04f8c",
   "metadata": {},
   "outputs": [],
   "source": [
    "from itertools import product\n",
    "import random\n",
    "\n",
    "RANKS = {'2', '3', '4', '5', '6', '7', '8', '9', '10', 'jack', 'queen', 'king', 'ace'}\n",
    "SUITS = {\"\\u2665\", \"\\u2660\", \"\\u2666\", \"\\u2663\"}\n",
    "\n",
    "\n",
    "class GameForGA:\n",
    "\n",
    "    def __init__(self):\n",
    "        self.deck = self.create_deck()\n",
    "        random.shuffle(self.deck)\n",
    "\n",
    "        self.player_hand = []\n",
    "        self.dealer_hand = []\n",
    "\n",
    "    @staticmethod\n",
    "    def create_deck():\n",
    "        deck = []\n",
    "        for suit, rank in product(SUITS, RANKS):\n",
    "            deck.append([rank, suit])\n",
    "        return deck\n",
    "\n",
    "    def get_card(self):\n",
    "        return self.deck.pop()\n",
    "\n",
    "    def start_game(self):\n",
    "        self.player_hand = [self.get_card(), self.get_card()]\n",
    "        self.dealer_hand = [self.get_card(), self.get_card()]\n",
    "\n",
    "    @staticmethod\n",
    "    def hand_value(hand):\n",
    "        value = 0\n",
    "        aces = 0\n",
    "        for card in hand:\n",
    "            if card[0] == 'ace':\n",
    "                value += 11\n",
    "                aces += 1\n",
    "            elif card[0].isdigit():\n",
    "                value += int(card[0])\n",
    "            else:\n",
    "                value += 10\n",
    "        while value > 21 and aces > 0:\n",
    "            value -= 10\n",
    "            aces -= 1\n",
    "        return value\n",
    "\n",
    "    @staticmethod\n",
    "    def print_hand(hand):\n",
    "        res = \"\"\n",
    "        for card in hand:\n",
    "            res += card[0] + ' ' + card[1] + ' '\n",
    "        return res\n",
    "\n",
    "    def player_action(self, action):\n",
    "        if action == \"h\":\n",
    "            self.player_hand.append(self.get_card())\n",
    "        return self.game_status()\n",
    "\n",
    "    def dealer_action(self):\n",
    "        while self.hand_value(self.dealer_hand) < 17:\n",
    "            self.dealer_hand.append(self.get_card())\n",
    "            # print(\"Dealer hits card and has:\", self.print_hand(self.dealer_hand), self.hand_value(self.dealer_hand))\n",
    "\n",
    "    def game_status(self):\n",
    "        player_value = self.hand_value(self.player_hand)\n",
    "        if player_value > 21:\n",
    "            # return \"player BUST\"\n",
    "            return 'l'\n",
    "        elif player_value == 21:\n",
    "            # return \"player BLACKJAСK\"\n",
    "            return 'w'\n",
    "        else:\n",
    "            return \"continue\"\n",
    "\n",
    "    def game_result(self):\n",
    "        player_value = self.hand_value(self.player_hand)\n",
    "        dealer_value = self.hand_value(self.dealer_hand)\n",
    "\n",
    "        if player_value > 21:\n",
    "            # return f\"player have {player_value} \\nLOSS\"\n",
    "            return 'l'\n",
    "        elif dealer_value > 21 or player_value > dealer_value:\n",
    "            # return f\"player have {player_value} dealer have {dealer_value} \\nWIN\"\n",
    "            return 'w'\n",
    "        elif player_value == dealer_value:\n",
    "            # return \"equal\"\n",
    "            return 'e'\n",
    "        else:\n",
    "            # return f\"player have {player_value} dealer have {dealer_value} \\nLOSS\"\n",
    "            return 'l'"
   ]
  },
  {
   "cell_type": "code",
   "execution_count": 20,
   "id": "69f1a43e-23fd-4b16-9904-b46dac177bd0",
   "metadata": {},
   "outputs": [],
   "source": [
    "def playGA(strategy):\n",
    "    g = GameForGA()\n",
    "    g.start_game()\n",
    "    type_of_hand = 0\n",
    "    help_type = 1\n",
    "    # print(\"Dealer shows:\", g.print_hand(g.dealer_hand[:1]))\n",
    "    g.print_hand(g.dealer_hand[:1])\n",
    "    status = \"continue\"\n",
    "    while status == \"continue\":\n",
    "        # print(g.print_hand(g.player_hand), 'your value:', g.hand_value(g.player_hand))\n",
    "        g.print_hand(g.player_hand)\n",
    "        g.hand_value(g.player_hand)\n",
    "\n",
    "        if help_type == 1:\n",
    "            if (g.player_hand[0][0] == 'ace' or g.player_hand[1][0] == 'ace'):\n",
    "                type_of_hand = 1\n",
    "            if (g.player_hand[0][0] == g.player_hand[1][0]):\n",
    "                type_of_hand = 2\n",
    "        help_type = 0\n",
    "        if type_of_hand != 0:\n",
    "            break\n",
    "        if g.hand_value(g.player_hand) == 21 or g.hand_value(g.dealer_hand) == 21:\n",
    "            # if g.hand_value(g.player_hand) != g.hand_value(g.dealer_hand):\n",
    "            # print('BLACKJAСK')\n",
    "            status = 'BLACKJAСK'\n",
    "\n",
    "        if status == 'BLACKJAСK':\n",
    "            break\n",
    "        # action = input(\"Enter an action (h/s): \") это для игры в ручную\n",
    "        # action = strategy[type_of_hand][g.hand_value(g.dealer_hand[:1])][g.hand_value(g.player_hand)] для 3 раздач\n",
    "\n",
    "        action = strategy[g.hand_value(g.player_hand) - 5][\n",
    "            g.hand_value(g.dealer_hand[:1]) - 2]  # только для жесткой раздачи\n",
    "        status = g.player_action(action)\n",
    "\n",
    "        if action == \"s\":\n",
    "            break\n",
    "\n",
    "    if status == \"continue\":\n",
    "        # print(\"Dealer has:\", g.print_hand(g.dealer_hand), g.hand_value(g.dealer_hand))\n",
    "        g.print_hand(g.dealer_hand)\n",
    "        g.hand_value(g.dealer_hand)\n",
    "        g.dealer_action()\n",
    "    if type_of_hand == 0:\n",
    "        return g.game_result()\n",
    "    else:\n",
    "        return 'e'  # сделали так, чтобы рассматривать только жесткие раздачи (не меняем остаток банка)\n",
    "#основная часть закомментированного кода - реализация пользовательского интерфейса игры "
   ]
  },
  {
   "cell_type": "markdown",
   "id": "4e2dcf50-1bba-4daf-a05b-ed464405019b",
   "metadata": {},
   "source": [
    "# **Реализация генетического алгоритма**\n"
   ]
  },
  {
   "cell_type": "code",
   "execution_count": 21,
   "id": "fc4563ce-65d5-485f-a58b-40521b9c6ddb",
   "metadata": {},
   "outputs": [],
   "source": [
    "import pandas as pd\n",
    "import random\n",
    "#from game import playGA\n",
    "import matplotlib.pyplot as plt\n",
    "import copy\n",
    "import multiprocessing as mp\n",
    "\n",
    "from loguru import logger\n",
    "\n",
    "\n",
    "def creator_df():\n",
    "    df_hard = pd.DataFrame(index=range(5, 21), columns=range(2, 12))\n",
    "    # df_soft = pd.DataFrame(index=range(13, 21), columns=range(2, 12))\n",
    "    # df_double = pd.DataFrame(index=range(2, 21, 2), columns=range(2, 12))\n",
    "    for i in range(5, 21):\n",
    "        for j in range(2, 12):\n",
    "            df_hard.loc[i, j] = random.choice(['h', 's'])\n",
    "    # for i in range(13, 21):\n",
    "    #     for j in range(2, 12):\n",
    "    #         df_soft.loc[i, j] = random.choice(['h', 's'])\n",
    "    # for i in range(2, 21, 2):\n",
    "    #     for j in range(2, 12):\n",
    "    #         df_double.loc[i, j] = random.choice(['h', 's'])\n",
    "    df_hard = df_hard.values.tolist()\n",
    "    return df_hard  # , df_soft, df_double\n",
    "#закомментированный код в creator_df - создание случайной стратегии для мягких и парных рук\n",
    "\n",
    "\n",
    "class FitnessMax():\n",
    "    def __init__(self):\n",
    "        self.values = 0\n",
    "\n",
    "\n",
    "class Individual(list):\n",
    "    def __init__(self, *args):\n",
    "        super().__init__(*args)\n",
    "        self.fitness = FitnessMax()\n",
    "\n",
    "\n",
    "def blackjack_fitness(individual):\n",
    "    cash = 50000\n",
    "    dep = 1\n",
    "    for _ in range(50000):\n",
    "        result = playGA(individual)\n",
    "        if result == 'l':\n",
    "            cash -= dep\n",
    "        elif result == 'w':\n",
    "            cash += dep\n",
    "        else:\n",
    "            cash += 0\n",
    "    return cash / 50000\n",
    "\n",
    "\n",
    "def individual_creator():\n",
    "    return Individual(creator_df())\n",
    "\n",
    "\n",
    "def population_creator(n):\n",
    "    return [individual_creator() for i in range(n)]\n",
    "\n",
    "\n",
    "def tournament(population):\n",
    "    offspring = []\n",
    "    for i in range(0, 450, 2):\n",
    "        offspring.append(max([population[i], population[i + 1]], key=lambda ind: ind.fitness.values))\n",
    "    sorted_offspring = sorted(offspring, key=lambda ind: ind.fitness.values, reverse=True)\n",
    "    return sorted_offspring[:200]\n",
    "\n",
    "\n",
    "def crossing(parent_1, parent_2):\n",
    "    child_1 = copy.deepcopy(parent_1)\n",
    "    child_2 = copy.deepcopy(parent_2)\n",
    "    for i in range(len(child_1)):\n",
    "        s = random.randint(len(child_1[0]) // 2 + 1, len(child_1[0]) - 1)\n",
    "        p = random.randint(1, s)\n",
    "        child_1[i][p:s], child_2[i][p:s] = child_2[i][p:s], child_1[i][p:s]\n",
    "\n",
    "    return child_1, child_2\n",
    "\n",
    "\n",
    "def mutation(parent):\n",
    "    mutant = copy.deepcopy(parent)\n",
    "    for i in range(len(mutant)):\n",
    "        for j in range(len(mutant[0])):\n",
    "            if random.random() < 0.05:\n",
    "                mutant[i][j] = 'h' if mutant[i][j] == 's' else 's'\n",
    "    return mutant"
   ]
  },
  {
   "cell_type": "code",
   "execution_count": null,
   "id": "4ceb1b54-1661-4ff7-9971-7ed064338eb0",
   "metadata": {},
   "outputs": [],
   "source": [
    "logger.info(\"Start. Create population\")\n",
    "population = population_creator(450)\n",
    "logger.info(\"Population created\")\n",
    "generationCounter = 0\n",
    "\n",
    "logger.info(\"Start BlackJackFitness\")\n",
    "fitnessValues = list(map(blackjack_fitness, population))\n",
    "logger.info(\"End BlackJackFitness\")\n",
    "\n",
    "for individual, fitnessValue in zip(population, fitnessValues):\n",
    "    individual.fitness.values = fitnessValue\n",
    "\n",
    "maxFitnessValue = []\n",
    "meanFitnessValue = []\n",
    "\n",
    "fitnessValues = [individual.fitness.values for individual in population]\n",
    "\n",
    "while generationCounter < 300:\n",
    "    generationCounter += 1\n",
    "    offspring = tournament(population)\n",
    "    # print(len(offspring))\n",
    "\n",
    "    for i in range(0, len(offspring), 2):\n",
    "        cross_1, cross_2 = crossing(offspring[i], offspring[i + 1])\n",
    "        offspring.append(cross_1)\n",
    "        offspring.append(cross_2)\n",
    "\n",
    "    # print(len(offspring))\n",
    "    for i in range(0, len(offspring), 8):\n",
    "        mutantik = mutation(offspring[i])\n",
    "        offspring.append(mutantik)\n",
    "    # print(len(offspring))\n",
    "\n",
    "    freshFitnessValues = list(map(blackjack_fitness, offspring))\n",
    "    for individual, fitnessValue in zip(offspring, freshFitnessValues):\n",
    "        individual.fitness.values = fitnessValue\n",
    "\n",
    "    population[:] = offspring\n",
    "    # print(len(population))\n",
    "    fitnessValues = [ind.fitness.values for ind in population]\n",
    "\n",
    "    maxFitness = max(fitnessValues)\n",
    "    meanFitness = sum(fitnessValues) / len(population)\n",
    "    maxFitnessValue.append(maxFitness)\n",
    "    meanFitnessValue.append(meanFitness)\n",
    "    print(f\"Поколение {generationCounter}: Макс. приспособленность = {maxFitness}, Средняя = {meanFitness}\")\n",
    "\n",
    "    best_i = fitnessValues.index(max(fitnessValues))\n",
    "    ans = [*population[best_i]]\n",
    "    df_ans = pd.DataFrame(ans, index=range(5, 21), columns=range(2, 12))\n",
    "    print('Лучший инидивид \\n', df_ans, '\\n')\n",
    "\n",
    "plt.plot(maxFitnessValue, label='Максимальная')\n",
    "plt.plot(meanFitnessValue, label='Средняя')\n",
    "plt.xlabel('Поколение')\n",
    "plt.ylabel('Максимальная и средняя приспособленность')\n",
    "plt.legend()\n",
    "plt.show()"
   ]
  },
  {
   "cell_type": "code",
   "execution_count": 23,
   "id": "0a35a7fd-982b-4f89-b90b-425dca459926",
   "metadata": {},
   "outputs": [],
   "source": [
    "def creatorDF():\n",
    "    df_hard = pd.DataFrame(index=range(5, 21), columns=range(2, 12))\n",
    "    # df_soft = pd.DataFrame(index=range(13, 21), columns=range(2, 12))\n",
    "    # df_double = pd.DataFrame(index=range(2, 21, 2), columns=range(2, 12))\n",
    "    for i in range(5, 21):\n",
    "        for j in range(2, 12):\n",
    "            df_hard.loc[i, j] = random.choice(['h', 's'])\n",
    "    # for i in range(13, 21):\n",
    "    #     for j in range(2, 12):\n",
    "    #         df_soft.loc[i, j] = random.choice(['h', 's'])\n",
    "    # for i in range(2, 21, 2):\n",
    "    #     for j in range(2, 12):\n",
    "    #         df_double.loc[i, j] = random.choice(['h', 's'])\n",
    "    df_hard = df_hard.values.tolist()\n",
    "    return df_hard #, df_soft, df_double"
   ]
  },
  {
   "cell_type": "code",
   "execution_count": 26,
   "id": "09ec6ee5-b2df-4207-aa73-93c1cf2222f0",
   "metadata": {},
   "outputs": [
    {
     "data": {
      "text/plain": [
       "[['s', 's', 's', 's', 'h', 's', 'h', 's', 'h', 'h'],\n",
       " ['s', 's', 's', 'h', 's', 'h', 's', 's', 's', 's'],\n",
       " ['s', 's', 's', 's', 'h', 's', 's', 'h', 's', 's'],\n",
       " ['s', 'h', 's', 'h', 's', 'h', 'h', 'h', 's', 's'],\n",
       " ['h', 'h', 's', 'h', 'h', 'h', 'h', 'h', 's', 's'],\n",
       " ['s', 's', 'h', 'h', 's', 'h', 's', 's', 'h', 's'],\n",
       " ['h', 'h', 'h', 'h', 's', 'h', 'h', 's', 's', 'h'],\n",
       " ['h', 's', 's', 'h', 'h', 'h', 's', 'h', 'h', 's'],\n",
       " ['h', 'h', 'h', 's', 's', 's', 'h', 'h', 's', 'h'],\n",
       " ['s', 's', 'h', 's', 'h', 's', 's', 's', 'h', 'h'],\n",
       " ['h', 's', 's', 's', 's', 's', 'h', 's', 'h', 'h'],\n",
       " ['s', 's', 'h', 'h', 's', 's', 's', 's', 'h', 's'],\n",
       " ['s', 'h', 's', 'h', 'h', 'h', 'h', 'h', 's', 'h'],\n",
       " ['s', 's', 's', 'h', 'h', 's', 'h', 's', 's', 's'],\n",
       " ['s', 'h', 'h', 's', 'h', 's', 'h', 's', 'h', 'h'],\n",
       " ['s', 's', 'h', 'h', 'h', 'h', 's', 's', 'h', 's']]"
      ]
     },
     "execution_count": 26,
     "metadata": {},
     "output_type": "execute_result"
    }
   ],
   "source": [
    "df_random = creatorDF()\n",
    "df_random"
   ]
  },
  {
   "cell_type": "code",
   "execution_count": 30,
   "id": "53e8e493-6571-4a15-b870-f147f7ab6f22",
   "metadata": {},
   "outputs": [],
   "source": [
    "df_ans = [['h' ,'h', 'h' ,'h', 'h' ,'h', 'h' , 'h', 'h', 'h'],\n",
    "      ['h' ,'h', 'h' ,'h', 'h' ,'h', 'h' , 'h', 'h', 'h'],\n",
    "      ['h' ,'h', 'h' ,'h', 'h' ,'h', 'h' , 'h', 'h', 'h'],\n",
    "      ['h' ,'h', 'h' ,'h', 'h' ,'h', 'h' , 'h', 'h', 'h'],\n",
    "      ['h' ,'h', 'h' ,'h', 'h' ,'h', 'h' , 'h', 'h', 'h'],\n",
    "      ['h' ,'h', 'h' ,'h', 'h' ,'h', 'h' , 'h', 'h', 'h'],\n",
    "      ['h' ,'h', 'h' ,'h', 'h' ,'h', 'h' , 'h', 'h', 'h'],\n",
    "      ['h' ,'h', 's' ,'s', 's' ,'h', 'h' , 'h', 'h', 'h'],\n",
    "      ['s' ,'s', 's' ,'s', 's' ,'h', 'h' , 'h', 'h', 'h'],\n",
    "      ['s' ,'s', 's' ,'s', 's' ,'h', 'h' , 'h', 'h', 'h'],\n",
    "      ['s' ,'s', 's' ,'s', 's' ,'h', 'h' , 'h', 'h', 'h'],\n",
    "      ['s' ,'s', 's' ,'s', 's' ,'h', 'h' , 'h', 'h', 'h'],\n",
    "      ['s' ,'s', 's' ,'s', 's' ,'s', 's' , 's', 's', 's'],\n",
    "      ['s' ,'s', 's' ,'s', 's' ,'s', 's' , 's', 's', 's'],\n",
    "      ['s' ,'s', 's' ,'s', 's' ,'s', 's' , 's', 's', 's'],\n",
    "      ['s' ,'s', 's' ,'s', 's' ,'s', 's' , 's', 's', 's']]"
   ]
  },
  {
   "cell_type": "code",
   "execution_count": 61,
   "id": "2660423a-da73-443d-8f71-f852600e09e1",
   "metadata": {},
   "outputs": [],
   "source": [
    "matrix4 = [\n",
    "    [\"h\", \"s\", \"s\", \"h\", \"s\", \"h\", \"s\", \"h\", \"s\", \"s\"],\n",
    "    [\"s\", \"s\", \"s\", \"h\", \"h\", \"s\", \"h\", \"s\", \"h\", \"h\"],\n",
    "    [\"h\", \"s\", \"h\", \"s\", \"h\", \"h\", \"s\", \"h\", \"s\", \"s\"],\n",
    "    [\"s\", \"h\", \"h\", \"s\", \"h\", \"h\", \"h\", \"h\", \"h\", \"h\"],\n",
    "    [\"h\", \"s\", \"s\", \"h\", \"h\", \"s\", \"h\", \"h\", \"s\", \"h\"],\n",
    "    [\"s\", \"h\", \"h\", \"h\", \"s\", \"h\", \"h\", \"h\", \"h\", \"h\"],\n",
    "    [\"h\", \"h\", \"h\", \"h\", \"h\", \"s\", \"s\", \"h\", \"s\", \"h\"],\n",
    "    [\"s\", \"h\", \"s\", \"s\", \"s\", \"h\", \"h\", \"s\", \"h\", \"h\"],\n",
    "    [\"s\", \"h\", \"s\", \"s\", \"s\", \"s\", \"s\", \"h\", \"s\", \"h\"],\n",
    "    [\"s\", \"h\", \"s\", \"h\", \"s\", \"h\", \"s\", \"h\", \"s\", \"s\"],\n",
    "    [\"s\", \"s\", \"s\", \"s\", \"s\", \"h\", \"h\", \"h\", \"h\", \"h\"],\n",
    "    [\"h\", \"s\", \"h\", \"s\", \"s\", \"h\", \"h\", \"h\", \"s\", \"h\"],\n",
    "    [\"s\", \"s\", \"s\", \"h\", \"h\", \"s\", \"h\", \"s\", \"s\", \"s\"],\n",
    "    [\"s\", \"h\", \"s\", \"s\", \"s\", \"s\", \"s\", \"s\", \"h\", \"s\"],\n",
    "    [\"s\", \"s\", \"h\", \"s\", \"s\", \"h\", \"s\", \"h\", \"s\", \"s\"],\n",
    "    [\"s\", \"s\", \"s\", \"h\", \"s\", \"s\", \"s\", \"s\", \"h\", \"s\"]\n",
    "]"
   ]
  },
  {
   "cell_type": "code",
   "execution_count": 35,
   "id": "d458e48a-c89a-41d7-9ab6-141332d2e1c2",
   "metadata": {},
   "outputs": [
    {
     "name": "stdout",
     "output_type": "stream",
     "text": [
      "0.7375\n"
     ]
    }
   ],
   "source": [
    "counter = 0\n",
    "for i in range(len(df)):\n",
    "    for j in range(len(df[0])):\n",
    "        if matrix4[i][j] == df_ans[i][j]:\n",
    "            counter += 1\n",
    "print(counter/(len(df) * len(df[0])))"
   ]
  },
  {
   "cell_type": "code",
   "execution_count": 40,
   "id": "a245174a-768a-42b8-8458-51bd3c0b82b2",
   "metadata": {},
   "outputs": [],
   "source": [
    "matrix33 = [\n",
    "    [\"s\", \"s\", \"h\", \"s\", \"s\", \"h\", \"h\", \"h\", \"h\", \"s\"],\n",
    "    [\"s\", \"h\", \"h\", \"h\", \"h\", \"h\", \"h\", \"h\", \"h\", \"h\"],\n",
    "    [\"h\", \"s\", \"s\", \"h\", \"h\", \"h\", \"h\", \"h\", \"h\", \"s\"],\n",
    "    [\"s\", \"h\", \"s\", \"h\", \"h\", \"h\", \"h\", \"h\", \"h\", \"s\"],\n",
    "    [\"h\", \"h\", \"h\", \"h\", \"h\", \"h\", \"h\", \"h\", \"h\", \"h\"],\n",
    "    [\"h\", \"h\", \"h\", \"h\", \"h\", \"h\", \"h\", \"h\", \"h\", \"s\"],\n",
    "    [\"h\", \"h\", \"h\", \"h\", \"h\", \"h\", \"h\", \"h\", \"h\", \"h\"],\n",
    "    [\"s\", \"h\", \"s\", \"s\", \"s\", \"h\", \"h\", \"h\", \"h\", \"h\"],\n",
    "    [\"s\", \"h\", \"s\", \"s\", \"s\", \"h\", \"h\", \"h\", \"h\", \"h\"],\n",
    "    [\"h\", \"h\", \"s\", \"s\", \"s\", \"h\", \"h\", \"h\", \"h\", \"s\"],\n",
    "    [\"s\", \"s\", \"s\", \"s\", \"s\", \"h\", \"h\", \"h\", \"h\", \"h\"],\n",
    "    [\"s\", \"s\", \"s\", \"s\", \"s\", \"h\", \"h\", \"h\", \"h\", \"s\"],\n",
    "    [\"s\", \"s\", \"s\", \"s\", \"s\", \"s\", \"s\", \"s\", \"s\", \"h\"],\n",
    "    [\"s\", \"s\", \"s\", \"s\", \"s\", \"s\", \"s\", \"s\", \"s\", \"s\"],\n",
    "    [\"s\", \"s\", \"s\", \"s\", \"s\", \"s\", \"s\", \"s\", \"s\", \"s\"],\n",
    "    [\"s\", \"s\", \"s\", \"s\", \"s\", \"s\", \"s\", \"s\", \"s\", \"s\"]\n",
    "]"
   ]
  },
  {
   "cell_type": "code",
   "execution_count": 41,
   "id": "8dc0eb40-8b58-4057-a416-b69de095a247",
   "metadata": {},
   "outputs": [
    {
     "name": "stdout",
     "output_type": "stream",
     "text": [
      "0.875\n"
     ]
    }
   ],
   "source": [
    "counter = 0\n",
    "for i in range(len(df)):\n",
    "    for j in range(len(df[0])):\n",
    "        if matrix33[i][j] == df_ans[i][j]:\n",
    "            counter += 1\n",
    "print(counter/(len(df) * len(df[0])))"
   ]
  },
  {
   "cell_type": "code",
   "execution_count": 47,
   "id": "914be760-9928-40f0-b83f-0151ffb928be",
   "metadata": {},
   "outputs": [],
   "source": [
    "matrix152 = [\n",
    "    [\"h\", \"s\", \"h\", \"h\", \"s\", \"h\", \"h\", \"h\", \"h\", \"s\"],\n",
    "    [\"s\", \"s\", \"s\", \"h\", \"h\", \"s\", \"h\", \"h\", \"h\", \"h\"],\n",
    "    [\"h\", \"s\", \"h\", \"s\", \"h\", \"h\", \"h\", \"h\", \"h\", \"s\"],\n",
    "    [\"s\", \"h\", \"h\", \"h\", \"h\", \"h\", \"h\", \"h\", \"h\", \"h\"],\n",
    "    [\"h\", \"h\", \"h\", \"h\", \"h\", \"h\", \"h\", \"h\", \"h\", \"h\"],\n",
    "    [\"h\", \"h\", \"h\", \"h\", \"h\", \"h\", \"h\", \"h\", \"h\", \"h\"],\n",
    "    [\"h\", \"h\", \"h\", \"h\", \"h\", \"h\", \"h\", \"h\", \"h\", \"h\"],\n",
    "    [\"s\", \"h\", \"s\", \"s\", \"s\", \"h\", \"h\", \"h\", \"h\", \"h\"],\n",
    "    [\"s\", \"h\", \"s\", \"s\", \"s\", \"h\", \"h\", \"h\", \"h\", \"h\"],\n",
    "    [\"s\", \"h\", \"s\", \"s\", \"s\", \"h\", \"h\", \"h\", \"h\", \"s\"],\n",
    "    [\"s\", \"s\", \"s\", \"s\", \"s\", \"h\", \"h\", \"h\", \"h\", \"h\"],\n",
    "    [\"h\", \"s\", \"s\", \"s\", \"s\", \"h\", \"h\", \"h\", \"h\", \"h\"],\n",
    "    [\"s\", \"s\", \"s\", \"s\", \"s\", \"s\", \"s\", \"s\", \"s\", \"s\"],\n",
    "    [\"s\", \"s\", \"s\", \"s\", \"s\", \"s\", \"s\", \"s\", \"s\", \"s\"],\n",
    "    [\"s\", \"s\", \"s\", \"s\", \"s\", \"s\", \"s\", \"s\", \"s\", \"s\"],\n",
    "    [\"s\", \"s\", \"s\", \"s\", \"s\", \"s\", \"s\", \"s\", \"s\", \"s\"]\n",
    "]"
   ]
  },
  {
   "cell_type": "code",
   "execution_count": 48,
   "id": "b99ee84b-9dad-4abc-b468-926f425a6164",
   "metadata": {},
   "outputs": [
    {
     "name": "stdout",
     "output_type": "stream",
     "text": [
      "0.9\n"
     ]
    }
   ],
   "source": [
    "counter = 0\n",
    "for i in range(len(df)):\n",
    "    for j in range(len(df[0])):\n",
    "        if matrix152[i][j] == df_ans[i][j]:\n",
    "            counter += 1\n",
    "print(counter/(len(df) * len(df[0])))"
   ]
  },
  {
   "cell_type": "code",
   "execution_count": 55,
   "id": "f5044e3f-ee13-45f4-bd3f-2df0092aedb3",
   "metadata": {},
   "outputs": [],
   "source": [
    "def BlackJackFitness(individual, value):\n",
    "    cash = value\n",
    "    dep = 1\n",
    "    for _ in range(value):\n",
    "        result = playGA(individual)\n",
    "        if result == 'l':\n",
    "            cash -= dep\n",
    "        elif result == 'w':\n",
    "            cash += dep\n",
    "        else:\n",
    "            cash += 0\n",
    "    return cash/value"
   ]
  },
  {
   "cell_type": "code",
   "execution_count": 62,
   "id": "525f3584-86a1-4198-9fe9-954daf391166",
   "metadata": {},
   "outputs": [
    {
     "data": {
      "text/plain": [
       "0.76534"
      ]
     },
     "execution_count": 62,
     "metadata": {},
     "output_type": "execute_result"
    }
   ],
   "source": [
    "BlackJackFitness(matrix4, 50000)"
   ]
  },
  {
   "cell_type": "code",
   "execution_count": 63,
   "id": "733c6983-72ad-4ce3-82e4-93a5bdcf46a9",
   "metadata": {},
   "outputs": [
    {
     "data": {
      "text/plain": [
       "0.89288"
      ]
     },
     "execution_count": 63,
     "metadata": {},
     "output_type": "execute_result"
    }
   ],
   "source": [
    "BlackJackFitness(matrix33, 50000)"
   ]
  },
  {
   "cell_type": "code",
   "execution_count": 59,
   "id": "658ee6d1-874e-4da1-b1ff-685d413e0fa6",
   "metadata": {},
   "outputs": [
    {
     "data": {
      "text/plain": [
       "0.89652"
      ]
     },
     "execution_count": 59,
     "metadata": {},
     "output_type": "execute_result"
    }
   ],
   "source": [
    "BlackJackFitness(matrix152, 50000)"
   ]
  },
  {
   "cell_type": "code",
   "execution_count": 60,
   "id": "d62b2fcd-9df5-419f-9e84-fcdc33b2d641",
   "metadata": {},
   "outputs": [
    {
     "data": {
      "text/plain": [
       "0.90828"
      ]
     },
     "execution_count": 60,
     "metadata": {},
     "output_type": "execute_result"
    }
   ],
   "source": [
    "BlackJackFitness(df_ans, 50000)"
   ]
  },
  {
   "cell_type": "code",
   "execution_count": 65,
   "id": "ca8f2fed-30da-4028-821c-da6450e9982e",
   "metadata": {},
   "outputs": [],
   "source": [
    "matrix202 = [['s' ,'h', 'h' ,'h', 'h' ,'h', 'h' , 'h', 'h', 'h'],\n",
    "      ['h' ,'h', 'h' ,'h', 'h' ,'h', 'h' , 'h', 'h', 'h'],\n",
    "      ['h' ,'h', 'h' ,'h', 'h' ,'h', 'h' , 'h', 'h', 'h'],\n",
    "      ['h' ,'h', 'h' ,'h', 'h' ,'h', 'h' , 'h', 'h', 'h'],\n",
    "      ['h' ,'h', 'h' ,'h', 'h' ,'h', 'h' , 'h', 'h', 'h'],\n",
    "      ['h' ,'h', 'h' ,'h', 'h' ,'h', 'h' , 'h', 'h', 'h'],\n",
    "      ['h' ,'h', 'h' ,'h', 'h' ,'h', 'h' , 'h', 'h', 'h'],\n",
    "      ['s' ,'h', 's' ,'s', 's' ,'h', 'h' , 'h', 'h', 'h'],\n",
    "      ['s' ,'s', 's' ,'s', 's' ,'h', 'h' , 'h', 'h', 'h'],\n",
    "      ['s' ,'s', 's' ,'s', 's' ,'h', 'h' , 'h', 'h', 'h'],\n",
    "      ['s' ,'s', 's' ,'s', 's' ,'h', 'h' , 'h', 'h', 'h'],\n",
    "      ['s' ,'s', 's' ,'s', 's' ,'h', 'h' , 'h', 'h', 'h'],\n",
    "      ['s' ,'s', 's' ,'s', 's' ,'s', 's' , 's', 's', 's'],\n",
    "      ['s' ,'s', 's' ,'s', 's' ,'s', 's' , 's', 's', 's'],\n",
    "      ['s' ,'s', 's' ,'s', 's' ,'s', 's' , 's', 's', 's'],\n",
    "      ['s' ,'s', 's' ,'s', 's' ,'s', 's' , 's', 's', 's']]\n"
   ]
  },
  {
   "cell_type": "code",
   "execution_count": 66,
   "id": "44b91ce4-be99-418f-8466-08f742ae74bc",
   "metadata": {},
   "outputs": [],
   "source": [
    "matrix298 = [['h' ,'h', 'h' ,'h', 'h' ,'h', 'h' , 'h', 'h', 'h'],\n",
    "      ['h' ,'h', 'h' ,'h', 'h' ,'h', 'h' , 'h', 'h', 'h'],\n",
    "      ['h' ,'h', 'h' ,'h', 'h' ,'h', 'h' , 'h', 'h', 'h'],\n",
    "      ['h' ,'h', 'h' ,'h', 'h' ,'h', 'h' , 'h', 'h', 'h'],\n",
    "      ['h' ,'h', 'h' ,'h', 'h' ,'h', 'h' , 'h', 'h', 'h'],\n",
    "      ['h' ,'h', 'h' ,'h', 'h' ,'h', 'h' , 'h', 'h', 'h'],\n",
    "      ['h' ,'h', 'h' ,'h', 'h' ,'h', 'h' , 'h', 'h', 'h'],\n",
    "      ['h' ,'h', 's' ,'s', 's' ,'h', 'h' , 'h', 'h', 'h'],\n",
    "      ['s' ,'s', 's' ,'s', 's' ,'h', 'h' , 'h', 'h', 'h'],\n",
    "      ['s' ,'s', 's' ,'s', 's' ,'h', 'h' , 'h', 'h', 'h'],\n",
    "      ['s' ,'s', 's' ,'s', 's' ,'h', 'h' , 'h', 'h', 'h'],\n",
    "      ['s' ,'s', 's' ,'s', 's' ,'h', 'h' , 'h', 'h', 'h'],\n",
    "      ['s' ,'s', 's' ,'s', 's' ,'s', 's' , 's', 's', 's'],\n",
    "      ['s' ,'s', 's' ,'s', 's' ,'s', 's' , 's', 's', 's'],\n",
    "      ['s' ,'s', 's' ,'s', 's' ,'s', 's' , 's', 's', 's'],\n",
    "      ['s' ,'s', 's' ,'s', 's' ,'s', 's' , 's', 's', 's']]\n"
   ]
  },
  {
   "cell_type": "code",
   "execution_count": 67,
   "id": "644e8168-1607-4a18-851f-f35ad1383438",
   "metadata": {},
   "outputs": [
    {
     "data": {
      "text/plain": [
       "0.89598"
      ]
     },
     "execution_count": 67,
     "metadata": {},
     "output_type": "execute_result"
    }
   ],
   "source": [
    "BlackJackFitness(matrix202, 50000)"
   ]
  },
  {
   "cell_type": "code",
   "execution_count": 68,
   "id": "7b4cfc24-972e-4852-a885-777fb9bfe6af",
   "metadata": {},
   "outputs": [
    {
     "data": {
      "text/plain": [
       "0.90226"
      ]
     },
     "execution_count": 68,
     "metadata": {},
     "output_type": "execute_result"
    }
   ],
   "source": [
    "BlackJackFitness(matrix298, 50000)"
   ]
  },
  {
   "cell_type": "code",
   "execution_count": 70,
   "id": "01525f62-73fe-4a10-80d3-58f6727029c0",
   "metadata": {},
   "outputs": [
    {
     "name": "stdout",
     "output_type": "stream",
     "text": [
      "0.9875\n",
      "1.0\n"
     ]
    }
   ],
   "source": [
    "counter = 0\n",
    "for i in range(len(df)):\n",
    "    for j in range(len(df[0])):\n",
    "        if matrix202[i][j] == df_ans[i][j]:\n",
    "            counter += 1\n",
    "print(counter/(len(df) * len(df[0])))\n",
    "counter = 0\n",
    "for i in range(len(df)):\n",
    "    for j in range(len(df[0])):\n",
    "        if matrix298[i][j] == df_ans[i][j]:\n",
    "            counter += 1\n",
    "print(counter/(len(df) * len(df[0])))"
   ]
  },
  {
   "cell_type": "code",
   "execution_count": 71,
   "id": "6174d689-1ea8-4ab4-abad-eda0648d80f9",
   "metadata": {},
   "outputs": [
    {
     "name": "stdout",
     "output_type": "stream",
     "text": [
      "   2  3  4  5  6  7  8  9  10 11\n",
      "5   h  h  h  h  h  h  h  h  h  h\n",
      "6   h  h  h  h  h  h  h  h  h  h\n",
      "7   h  h  h  h  h  h  h  h  h  h\n",
      "8   h  h  h  h  h  h  h  h  h  h\n",
      "9   h  h  h  h  h  h  h  h  h  h\n",
      "10  h  h  h  h  h  h  h  h  h  h\n",
      "11  h  h  h  h  h  h  h  h  h  h\n",
      "12  h  h  s  s  s  h  h  h  h  h\n",
      "13  s  s  s  s  s  h  h  h  h  h\n",
      "14  s  s  s  s  s  h  h  h  h  h\n",
      "15  s  s  s  s  s  h  h  h  h  h\n",
      "16  s  s  s  s  s  h  h  h  h  h\n",
      "17  s  s  s  s  s  s  s  s  s  s\n",
      "18  s  s  s  s  s  s  s  s  s  s\n",
      "19  s  s  s  s  s  s  s  s  s  s\n",
      "20  s  s  s  s  s  s  s  s  s  s\n"
     ]
    }
   ],
   "source": [
    "df = pd.DataFrame(df_ans, index=range(5, 21), columns=range(2, 12))\n",
    "print(df)"
   ]
  },
  {
   "cell_type": "code",
   "execution_count": 72,
   "id": "b855ab30-a405-4a77-bdc2-f49435afa9e7",
   "metadata": {},
   "outputs": [
    {
     "name": "stdout",
     "output_type": "stream",
     "text": [
      "   2  3  4  5  6  7  8  9  10 11\n",
      "5   h  s  s  h  s  h  s  h  s  s\n",
      "6   s  s  s  h  h  s  h  s  h  h\n",
      "7   h  s  h  s  h  h  s  h  s  s\n",
      "8   s  h  h  s  h  h  h  h  h  h\n",
      "9   h  s  s  h  h  s  h  h  s  h\n",
      "10  s  h  h  h  s  h  h  h  h  h\n",
      "11  h  h  h  h  h  s  s  h  s  h\n",
      "12  s  h  s  s  s  h  h  s  h  h\n",
      "13  s  h  s  s  s  s  s  h  s  h\n",
      "14  s  h  s  h  s  h  s  h  s  s\n",
      "15  s  s  s  s  s  h  h  h  h  h\n",
      "16  h  s  h  s  s  h  h  h  s  h\n",
      "17  s  s  s  h  h  s  h  s  s  s\n",
      "18  s  h  s  s  s  s  s  s  h  s\n",
      "19  s  s  h  s  s  h  s  h  s  s\n",
      "20  s  s  s  h  s  s  s  s  h  s\n"
     ]
    }
   ],
   "source": [
    "df = pd.DataFrame(matrix4, index=range(5, 21), columns=range(2, 12))\n",
    "print(df)"
   ]
  },
  {
   "cell_type": "code",
   "execution_count": 73,
   "id": "6c85022e-7950-4539-8a78-7c15fe7988fe",
   "metadata": {},
   "outputs": [
    {
     "name": "stdout",
     "output_type": "stream",
     "text": [
      "   2  3  4  5  6  7  8  9  10 11\n",
      "5   s  s  h  s  s  h  h  h  h  s\n",
      "6   s  h  h  h  h  h  h  h  h  h\n",
      "7   h  s  s  h  h  h  h  h  h  s\n",
      "8   s  h  s  h  h  h  h  h  h  s\n",
      "9   h  h  h  h  h  h  h  h  h  h\n",
      "10  h  h  h  h  h  h  h  h  h  s\n",
      "11  h  h  h  h  h  h  h  h  h  h\n",
      "12  s  h  s  s  s  h  h  h  h  h\n",
      "13  s  h  s  s  s  h  h  h  h  h\n",
      "14  h  h  s  s  s  h  h  h  h  s\n",
      "15  s  s  s  s  s  h  h  h  h  h\n",
      "16  s  s  s  s  s  h  h  h  h  s\n",
      "17  s  s  s  s  s  s  s  s  s  h\n",
      "18  s  s  s  s  s  s  s  s  s  s\n",
      "19  s  s  s  s  s  s  s  s  s  s\n",
      "20  s  s  s  s  s  s  s  s  s  s\n"
     ]
    }
   ],
   "source": [
    "df = pd.DataFrame(matrix33, index=range(5, 21), columns=range(2, 12))\n",
    "print(df)"
   ]
  },
  {
   "cell_type": "code",
   "execution_count": 74,
   "id": "f457a35a-9d6b-4c59-97eb-54b3dc19acf5",
   "metadata": {},
   "outputs": [
    {
     "name": "stdout",
     "output_type": "stream",
     "text": [
      "   2  3  4  5  6  7  8  9  10 11\n",
      "5   h  s  h  h  s  h  h  h  h  s\n",
      "6   s  s  s  h  h  s  h  h  h  h\n",
      "7   h  s  h  s  h  h  h  h  h  s\n",
      "8   s  h  h  h  h  h  h  h  h  h\n",
      "9   h  h  h  h  h  h  h  h  h  h\n",
      "10  h  h  h  h  h  h  h  h  h  h\n",
      "11  h  h  h  h  h  h  h  h  h  h\n",
      "12  s  h  s  s  s  h  h  h  h  h\n",
      "13  s  h  s  s  s  h  h  h  h  h\n",
      "14  s  h  s  s  s  h  h  h  h  s\n",
      "15  s  s  s  s  s  h  h  h  h  h\n",
      "16  h  s  s  s  s  h  h  h  h  h\n",
      "17  s  s  s  s  s  s  s  s  s  s\n",
      "18  s  s  s  s  s  s  s  s  s  s\n",
      "19  s  s  s  s  s  s  s  s  s  s\n",
      "20  s  s  s  s  s  s  s  s  s  s\n"
     ]
    }
   ],
   "source": [
    "df = pd.DataFrame(matrix152, index=range(5, 21), columns=range(2, 12))\n",
    "print(df)"
   ]
  },
  {
   "cell_type": "code",
   "execution_count": 75,
   "id": "2a24d1a8-2015-4b77-a5f8-01b908b1ca74",
   "metadata": {},
   "outputs": [
    {
     "name": "stdout",
     "output_type": "stream",
     "text": [
      "   2  3  4  5  6  7  8  9  10 11\n",
      "5   s  h  h  h  h  h  h  h  h  h\n",
      "6   h  h  h  h  h  h  h  h  h  h\n",
      "7   h  h  h  h  h  h  h  h  h  h\n",
      "8   h  h  h  h  h  h  h  h  h  h\n",
      "9   h  h  h  h  h  h  h  h  h  h\n",
      "10  h  h  h  h  h  h  h  h  h  h\n",
      "11  h  h  h  h  h  h  h  h  h  h\n",
      "12  s  h  s  s  s  h  h  h  h  h\n",
      "13  s  s  s  s  s  h  h  h  h  h\n",
      "14  s  s  s  s  s  h  h  h  h  h\n",
      "15  s  s  s  s  s  h  h  h  h  h\n",
      "16  s  s  s  s  s  h  h  h  h  h\n",
      "17  s  s  s  s  s  s  s  s  s  s\n",
      "18  s  s  s  s  s  s  s  s  s  s\n",
      "19  s  s  s  s  s  s  s  s  s  s\n",
      "20  s  s  s  s  s  s  s  s  s  s\n"
     ]
    }
   ],
   "source": [
    "df = pd.DataFrame(matrix202, index=range(5, 21), columns=range(2, 12))\n",
    "print(df)"
   ]
  },
  {
   "cell_type": "code",
   "execution_count": 76,
   "id": "7658029c-169a-405c-bf4a-3844edfd4cb8",
   "metadata": {},
   "outputs": [
    {
     "name": "stdout",
     "output_type": "stream",
     "text": [
      "   2  3  4  5  6  7  8  9  10 11\n",
      "5   h  h  h  h  h  h  h  h  h  h\n",
      "6   h  h  h  h  h  h  h  h  h  h\n",
      "7   h  h  h  h  h  h  h  h  h  h\n",
      "8   h  h  h  h  h  h  h  h  h  h\n",
      "9   h  h  h  h  h  h  h  h  h  h\n",
      "10  h  h  h  h  h  h  h  h  h  h\n",
      "11  h  h  h  h  h  h  h  h  h  h\n",
      "12  h  h  s  s  s  h  h  h  h  h\n",
      "13  s  s  s  s  s  h  h  h  h  h\n",
      "14  s  s  s  s  s  h  h  h  h  h\n",
      "15  s  s  s  s  s  h  h  h  h  h\n",
      "16  s  s  s  s  s  h  h  h  h  h\n",
      "17  s  s  s  s  s  s  s  s  s  s\n",
      "18  s  s  s  s  s  s  s  s  s  s\n",
      "19  s  s  s  s  s  s  s  s  s  s\n",
      "20  s  s  s  s  s  s  s  s  s  s\n"
     ]
    }
   ],
   "source": [
    "df = pd.DataFrame(matrix298, index=range(5, 21), columns=range(2, 12))\n",
    "print(df)"
   ]
  },
  {
   "cell_type": "markdown",
   "id": "025f19e4-c2ea-49d1-99af-123cbe178bea",
   "metadata": {},
   "source": [
    "# **Графики и вспомогательные функции**"
   ]
  },
  {
   "cell_type": "code",
   "execution_count": null,
   "id": "2039d858-49e3-46ea-becf-d57d262cea99",
   "metadata": {},
   "outputs": [],
   "source": [
    "import pandas as pd\n",
    "def creatorDF():\n",
    "    df_hard = pd.DataFrame(index=range(5, 21), columns=range(2, 12))\n",
    "    # df_soft = pd.DataFrame(index=range(13, 21), columns=range(2, 12))\n",
    "    # df_double = pd.DataFrame(index=range(2, 21, 2), columns=range(2, 12))\n",
    "    for i in range(5, 21):\n",
    "        for j in range(2, 12):\n",
    "            df_hard.loc[i, j] = random.choice(['h', 's'])\n",
    "    # for i in range(13, 21):\n",
    "    #     for j in range(2, 12):\n",
    "    #         df_soft.loc[i, j] = random.choice(['h', 's'])\n",
    "    # for i in range(2, 21, 2):\n",
    "    #     for j in range(2, 12):\n",
    "    #         df_double.loc[i, j] = random.choice(['h', 's'])\n",
    "    df_hard = df_hard.values.tolist()\n",
    "    return df_hard #, df_soft, df_double"
   ]
  },
  {
   "cell_type": "code",
   "execution_count": null,
   "id": "76d8d4bc-d6ec-43ba-ad28-62260df7fcb3",
   "metadata": {},
   "outputs": [],
   "source": [
    "def blackjack_fitness(individual, value):\n",
    "    cash = value\n",
    "    dep = 1\n",
    "    for _ in range(value):\n",
    "        result = playGA(individual)\n",
    "        if result == 'l':\n",
    "            cash -= dep\n",
    "        elif result == 'w':\n",
    "            cash += dep\n",
    "        else:\n",
    "            cash += 0\n",
    "    return cash/value"
   ]
  },
  {
   "cell_type": "code",
   "execution_count": null,
   "id": "59d2073c-47ab-47f5-bdad-232842144b61",
   "metadata": {},
   "outputs": [],
   "source": [
    "df1 = creatorDF()\n",
    "df = [['h' ,'h', 'h' ,'h', 'h' ,'h', 'h' , 'h', 'h', 'h'],\n",
    "      ['h' ,'h', 'h' ,'h', 'h' ,'h', 'h' , 'h', 'h', 'h'],\n",
    "      ['h' ,'h', 'h' ,'h', 'h' ,'h', 'h' , 'h', 'h', 'h'],\n",
    "      ['h' ,'h', 'h' ,'h', 'h' ,'h', 'h' , 'h', 'h', 'h'],\n",
    "      ['h' ,'h', 'h' ,'h', 'h' ,'h', 'h' , 'h', 'h', 'h'],\n",
    "      ['h' ,'h', 'h' ,'h', 'h' ,'h', 'h' , 'h', 'h', 'h'],\n",
    "      ['h' ,'h', 'h' ,'h', 'h' ,'h', 'h' , 'h', 'h', 'h'],\n",
    "      ['h' ,'h', 's' ,'s', 's' ,'h', 'h' , 'h', 'h', 'h'],\n",
    "      ['s' ,'s', 's' ,'s', 's' ,'h', 'h' , 'h', 'h', 'h'],\n",
    "      ['s' ,'s', 's' ,'s', 's' ,'h', 'h' , 'h', 'h', 'h'],\n",
    "      ['s' ,'s', 's' ,'s', 's' ,'h', 'h' , 'h', 'h', 'h'],\n",
    "      ['s' ,'s', 's' ,'s', 's' ,'h', 'h' , 'h', 'h', 'h'],\n",
    "      ['s' ,'s', 's' ,'s', 's' ,'s', 's' , 's', 's', 's'],\n",
    "      ['s' ,'s', 's' ,'s', 's' ,'s', 's' , 's', 's', 's'],\n",
    "      ['s' ,'s', 's' ,'s', 's' ,'s', 's' , 's', 's', 's'],\n",
    "      ['s' ,'s', 's' ,'s', 's' ,'s', 's' , 's', 's', 's']]"
   ]
  },
  {
   "cell_type": "code",
   "execution_count": null,
   "id": "51c2fd6e-da49-429d-b830-9f1ef40fb6cd",
   "metadata": {},
   "outputs": [],
   "source": [
    "import matplotlib.pyplot as plt\n",
    "\n",
    "\n",
    "arr100 = [blackjack_fitness(df, 100) for i in range(100)]\n",
    "arr1000 = [blackjack_fitness(df, 1000) for _ in range(100)]\n",
    "arr10000 = [blackjack_fitness(df, 10000) for _ in range(100)]\n",
    "arr50000 = [blackjack_fitness(df, 50000) for _ in range(100)]\n",
    "arr100000 = [blackjack_fitness(df, 100000) for _ in range(100)]\n",
    "\n",
    "arr1_100 = [blackjack_fitness(df1, 100) for i in range(100)]\n",
    "arr1_1000 = [blackjack_fitness(df1, 1000) for _ in range(100)]\n",
    "arr1_10000 = [blackjack_fitness(df1, 10000) for _ in range(100)]\n",
    "arr1_50000 = [blackjack_fitness(df1, 50000) for _ in range(100)]\n",
    "arr1_100000 = [blackjack_fitness(df1, 100000) for _ in range(100)]\n",
    "\n",
    "fig, (ax1, ax2) = plt.subplots(nrows=1, ncols=2, figsize=(16, 6))\n",
    "\n",
    "ax1.violinplot([arr100, arr1000, arr10000, arr50000, arr100000], showmeans=True, showmedians=True)\n",
    "ax1.set_xticks([1, 2, 3, 4, 5])\n",
    "ax1.set_xticklabels(['100', '1000', '10000', '50000', '100000'])\n",
    "ax1.set_ylabel('Показатель пригодности')\n",
    "ax1.set_xlabel('Кол-во сыгранных раздач')\n",
    "ax1.set_title('Лучшая стратегия')\n",
    "\n",
    "ax2.violinplot([arr1_100, arr1_1000, arr1_10000, arr1_50000, arr1_100000], showmeans=True, showmedians=True)\n",
    "ax2.set_xticks([1, 2, 3, 4, 5])\n",
    "ax2.set_xticklabels(['100', '1000', '10000', '50000', '100000'])\n",
    "#ax2.set_ylabel('Показатель пригодности')\n",
    "ax2.set_xlabel('Кол-во сыгранных раздач')\n",
    "ax2.set_title('Случайная стратегия')\n",
    "\n",
    "plt.show()"
   ]
  },
  {
   "cell_type": "code",
   "execution_count": null,
   "id": "90494add-5d36-4745-aabf-0e8067a30a0a",
   "metadata": {},
   "outputs": [],
   "source": [
    "import numpy as np\n",
    "std = [np.std(arr100), np.std(arr1000),np.std(arr10000),np.std(arr50000), np.std(arr100000)]\n",
    "std1 = [np.std(arr1_100), np.std(arr1_1000),np.std(arr1_10000),np.std(arr1_50000), np.std(arr1_100000)]\n",
    "val = [100, 1000, 10000, 50000, 100000]\n",
    "\n",
    "plt.figure(figsize=(10, 6))\n",
    "plt.plot(val, std, marker='o', label= 'Лучшая стратегия', color = 'r')\n",
    "plt.plot(val, std1, marker='s', label= 'Случайная стратегия')\n",
    "plt.grid(True)\n",
    "plt.legend()\n",
    "\n",
    "plt.xscale('log', base=10)\n",
    "\n",
    "\n",
    "plt.xticks(val, [f'{v:,}' for v in val], rotation=0)\n",
    "plt.xlabel('Количество сыгранных раздач', fontsize=14)\n",
    "plt.ylabel('Стандартное отклонение', fontsize=14)\n",
    "plt.tight_layout()\n",
    "plt.show()"
   ]
  },
  {
   "cell_type": "code",
   "execution_count": null,
   "id": "9f0aa391-aea7-4ecd-8f8f-f15e1ff101e2",
   "metadata": {},
   "outputs": [],
   "source": []
  }
 ],
 "metadata": {
  "kernelspec": {
   "display_name": "Python 3 (ipykernel)",
   "language": "python",
   "name": "python3"
  },
  "language_info": {
   "codemirror_mode": {
    "name": "ipython",
    "version": 3
   },
   "file_extension": ".py",
   "mimetype": "text/x-python",
   "name": "python",
   "nbconvert_exporter": "python",
   "pygments_lexer": "ipython3",
   "version": "3.11.0"
  }
 },
 "nbformat": 4,
 "nbformat_minor": 5
}
